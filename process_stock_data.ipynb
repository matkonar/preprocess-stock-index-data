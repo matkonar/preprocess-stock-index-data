{
 "cells": [
  {
   "cell_type": "markdown",
   "metadata": {},
   "source": [
    "Import packages"
   ]
  },
  {
   "cell_type": "code",
   "execution_count": 87,
   "metadata": {},
   "outputs": [],
   "source": [
    "import pandas as pd\n",
    "import yfinance as yf\n",
    "import matplotlib.pyplot as plt\n",
    "import seaborn as sns\n",
    "import os\n",
    "import glob"
   ]
  },
  {
   "cell_type": "markdown",
   "metadata": {},
   "source": [
    "Data import from excel"
   ]
  },
  {
   "cell_type": "code",
   "execution_count": 88,
   "metadata": {},
   "outputs": [],
   "source": [
    "df = pd.read_excel(\"stock_data.xlsx\", sheet_name=\"data\")"
   ]
  },
  {
   "cell_type": "code",
   "execution_count": 90,
   "metadata": {},
   "outputs": [
    {
     "data": {
      "text/html": [
       "<div>\n",
       "<style scoped>\n",
       "    .dataframe tbody tr th:only-of-type {\n",
       "        vertical-align: middle;\n",
       "    }\n",
       "\n",
       "    .dataframe tbody tr th {\n",
       "        vertical-align: top;\n",
       "    }\n",
       "\n",
       "    .dataframe thead th {\n",
       "        text-align: right;\n",
       "    }\n",
       "</style>\n",
       "<table border=\"1\" class=\"dataframe\">\n",
       "  <thead>\n",
       "    <tr style=\"text-align: right;\">\n",
       "      <th></th>\n",
       "      <th>RIC</th>\n",
       "      <th>24.10.2023</th>\n",
       "      <th>23.10.2023</th>\n",
       "      <th>22.10.2023</th>\n",
       "      <th>21.10.2023</th>\n",
       "      <th>20.10.2023</th>\n",
       "      <th>19.10.2023</th>\n",
       "      <th>18.10.2023</th>\n",
       "      <th>17.10.2023</th>\n",
       "      <th>16.10.2023</th>\n",
       "      <th>...</th>\n",
       "      <th>10.01.2013</th>\n",
       "      <th>09.01.2013</th>\n",
       "      <th>08.01.2013</th>\n",
       "      <th>07.01.2013</th>\n",
       "      <th>06.01.2013</th>\n",
       "      <th>05.01.2013</th>\n",
       "      <th>04.01.2013</th>\n",
       "      <th>03.01.2013</th>\n",
       "      <th>02.01.2013</th>\n",
       "      <th>01.01.2013</th>\n",
       "    </tr>\n",
       "  </thead>\n",
       "  <tbody>\n",
       "    <tr>\n",
       "      <th>0</th>\n",
       "      <td>.DJI</td>\n",
       "      <td>29618.45</td>\n",
       "      <td>29435.27</td>\n",
       "      <td>29605.85</td>\n",
       "      <td>29605.85</td>\n",
       "      <td>29605.85</td>\n",
       "      <td>29862.24</td>\n",
       "      <td>30086.48</td>\n",
       "      <td>30383.70</td>\n",
       "      <td>30371.98</td>\n",
       "      <td>...</td>\n",
       "      <td>12039.23</td>\n",
       "      <td>11967.10</td>\n",
       "      <td>11911.99</td>\n",
       "      <td>11961.54</td>\n",
       "      <td>12007.05</td>\n",
       "      <td>12007.05</td>\n",
       "      <td>12007.05</td>\n",
       "      <td>11967.86</td>\n",
       "      <td>11986.80</td>\n",
       "      <td>NaN</td>\n",
       "    </tr>\n",
       "    <tr>\n",
       "      <th>1</th>\n",
       "      <td>.STOXX</td>\n",
       "      <td>388.84</td>\n",
       "      <td>387.13</td>\n",
       "      <td>387.62</td>\n",
       "      <td>387.62</td>\n",
       "      <td>387.62</td>\n",
       "      <td>392.99</td>\n",
       "      <td>397.71</td>\n",
       "      <td>401.95</td>\n",
       "      <td>402.34</td>\n",
       "      <td>...</td>\n",
       "      <td>256.89</td>\n",
       "      <td>257.58</td>\n",
       "      <td>255.82</td>\n",
       "      <td>256.16</td>\n",
       "      <td>257.23</td>\n",
       "      <td>257.23</td>\n",
       "      <td>257.23</td>\n",
       "      <td>256.34</td>\n",
       "      <td>255.00</td>\n",
       "      <td>NaN</td>\n",
       "    </tr>\n",
       "    <tr>\n",
       "      <th>2</th>\n",
       "      <td>.FTSE</td>\n",
       "      <td>6604.17</td>\n",
       "      <td>6590.89</td>\n",
       "      <td>6615.29</td>\n",
       "      <td>6615.29</td>\n",
       "      <td>6615.29</td>\n",
       "      <td>6702.33</td>\n",
       "      <td>6781.40</td>\n",
       "      <td>6859.34</td>\n",
       "      <td>6819.49</td>\n",
       "      <td>...</td>\n",
       "      <td>5452.92</td>\n",
       "      <td>5450.36</td>\n",
       "      <td>5410.13</td>\n",
       "      <td>5419.92</td>\n",
       "      <td>5442.49</td>\n",
       "      <td>5442.49</td>\n",
       "      <td>5442.49</td>\n",
       "      <td>5404.51</td>\n",
       "      <td>5386.66</td>\n",
       "      <td>NaN</td>\n",
       "    </tr>\n",
       "    <tr>\n",
       "      <th>3</th>\n",
       "      <td>.GDAXI</td>\n",
       "      <td>13298.20</td>\n",
       "      <td>13227.40</td>\n",
       "      <td>13225.39</td>\n",
       "      <td>13225.39</td>\n",
       "      <td>13225.39</td>\n",
       "      <td>13445.92</td>\n",
       "      <td>13490.32</td>\n",
       "      <td>13630.44</td>\n",
       "      <td>13618.19</td>\n",
       "      <td>...</td>\n",
       "      <td>6889.06</td>\n",
       "      <td>6899.78</td>\n",
       "      <td>6877.76</td>\n",
       "      <td>6910.68</td>\n",
       "      <td>6949.74</td>\n",
       "      <td>6949.74</td>\n",
       "      <td>6949.74</td>\n",
       "      <td>6931.93</td>\n",
       "      <td>6951.90</td>\n",
       "      <td>NaN</td>\n",
       "    </tr>\n",
       "    <tr>\n",
       "      <th>4</th>\n",
       "      <td>.HSI</td>\n",
       "      <td>15185.33</td>\n",
       "      <td>15346.73</td>\n",
       "      <td>15346.73</td>\n",
       "      <td>15346.73</td>\n",
       "      <td>15346.73</td>\n",
       "      <td>15457.34</td>\n",
       "      <td>15847.55</td>\n",
       "      <td>15884.03</td>\n",
       "      <td>15765.19</td>\n",
       "      <td>...</td>\n",
       "      <td>20871.75</td>\n",
       "      <td>20750.35</td>\n",
       "      <td>20654.47</td>\n",
       "      <td>20849.80</td>\n",
       "      <td>20851.00</td>\n",
       "      <td>20851.00</td>\n",
       "      <td>20851.00</td>\n",
       "      <td>20911.33</td>\n",
       "      <td>20833.92</td>\n",
       "      <td>NaN</td>\n",
       "    </tr>\n",
       "  </tbody>\n",
       "</table>\n",
       "<p>5 rows × 3950 columns</p>\n",
       "</div>"
      ],
      "text/plain": [
       "      RIC  24.10.2023  23.10.2023  22.10.2023  21.10.2023  20.10.2023   \n",
       "0    .DJI    29618.45    29435.27    29605.85    29605.85    29605.85  \\\n",
       "1  .STOXX      388.84      387.13      387.62      387.62      387.62   \n",
       "2   .FTSE     6604.17     6590.89     6615.29     6615.29     6615.29   \n",
       "3  .GDAXI    13298.20    13227.40    13225.39    13225.39    13225.39   \n",
       "4    .HSI    15185.33    15346.73    15346.73    15346.73    15346.73   \n",
       "\n",
       "   19.10.2023  18.10.2023  17.10.2023  16.10.2023  ...  10.01.2013   \n",
       "0    29862.24    30086.48    30383.70    30371.98  ...    12039.23  \\\n",
       "1      392.99      397.71      401.95      402.34  ...      256.89   \n",
       "2     6702.33     6781.40     6859.34     6819.49  ...     5452.92   \n",
       "3    13445.92    13490.32    13630.44    13618.19  ...     6889.06   \n",
       "4    15457.34    15847.55    15884.03    15765.19  ...    20871.75   \n",
       "\n",
       "   09.01.2013  08.01.2013  07.01.2013  06.01.2013  05.01.2013  04.01.2013   \n",
       "0    11967.10    11911.99    11961.54    12007.05    12007.05    12007.05  \\\n",
       "1      257.58      255.82      256.16      257.23      257.23      257.23   \n",
       "2     5450.36     5410.13     5419.92     5442.49     5442.49     5442.49   \n",
       "3     6899.78     6877.76     6910.68     6949.74     6949.74     6949.74   \n",
       "4    20750.35    20654.47    20849.80    20851.00    20851.00    20851.00   \n",
       "\n",
       "   03.01.2013  02.01.2013  01.01.2013  \n",
       "0    11967.86    11986.80         NaN  \n",
       "1      256.34      255.00         NaN  \n",
       "2     5404.51     5386.66         NaN  \n",
       "3     6931.93     6951.90         NaN  \n",
       "4    20911.33    20833.92         NaN  \n",
       "\n",
       "[5 rows x 3950 columns]"
      ]
     },
     "execution_count": 90,
     "metadata": {},
     "output_type": "execute_result"
    }
   ],
   "source": [
    "df.head()"
   ]
  },
  {
   "cell_type": "code",
   "execution_count": 91,
   "metadata": {},
   "outputs": [
    {
     "data": {
      "text/plain": [
       "(5, 3950)"
      ]
     },
     "execution_count": 91,
     "metadata": {},
     "output_type": "execute_result"
    }
   ],
   "source": [
    "df.shape"
   ]
  },
  {
   "cell_type": "markdown",
   "metadata": {},
   "source": [
    "Data modelling"
   ]
  },
  {
   "cell_type": "code",
   "execution_count": 92,
   "metadata": {},
   "outputs": [],
   "source": [
    "# Unpivot columns except 'RIC' column\n",
    "df = pd.melt(df, id_vars='RIC', var_name='Trade Date', value_name='Universal Close Price')\n",
    "\n",
    "# Convert 'Trade Date' to date format\n",
    "df['Trade Date'] = pd.to_datetime(df['Trade Date'], format='%d.%m.%Y')\n",
    "\n",
    "# Create pivot table\n",
    "df = df.pivot(index='Trade Date', columns='RIC', values='Universal Close Price')"
   ]
  },
  {
   "cell_type": "code",
   "execution_count": 93,
   "metadata": {},
   "outputs": [],
   "source": [
    "# Delete rows in case it is weekend\n",
    "df = df[df.index.weekday < 5]"
   ]
  },
  {
   "cell_type": "markdown",
   "metadata": {},
   "source": [
    "Get Nikkei 225 and S&P 500 data from yahoo finance"
   ]
  },
  {
   "cell_type": "code",
   "execution_count": 94,
   "metadata": {},
   "outputs": [],
   "source": [
    "# Set start and and date\n",
    "start_date = df.index.min()\n",
    "end_date = df.index.max()"
   ]
  },
  {
   "cell_type": "code",
   "execution_count": 95,
   "metadata": {},
   "outputs": [
    {
     "name": "stdout",
     "output_type": "stream",
     "text": [
      "[*********************100%***********************]  2 of 2 completed\n"
     ]
    }
   ],
   "source": [
    "# Download yahoo finance data\n",
    "tickers_list = ['^N225', '^GSPC']\n",
    "yahoo_object = yf.Tickers(tickers_list)\n",
    "yahoo_prices = yahoo_object.history(start=start_date, end=end_date, interval='1d').Close"
   ]
  },
  {
   "cell_type": "code",
   "execution_count": 96,
   "metadata": {},
   "outputs": [],
   "source": [
    "# Round stock prices\n",
    "yahoo_prices = yahoo_prices.round(decimals = 2)\n",
    "\n",
    "# Rename columns\n",
    "map_tickers = {'^GSPC': '.INX',\n",
    "               '^N225': '.N225'}\n",
    "yahoo_prices = yahoo_prices.rename(columns=map_tickers)"
   ]
  },
  {
   "cell_type": "code",
   "execution_count": 97,
   "metadata": {},
   "outputs": [
    {
     "data": {
      "text/html": [
       "<div>\n",
       "<style scoped>\n",
       "    .dataframe tbody tr th:only-of-type {\n",
       "        vertical-align: middle;\n",
       "    }\n",
       "\n",
       "    .dataframe tbody tr th {\n",
       "        vertical-align: top;\n",
       "    }\n",
       "\n",
       "    .dataframe thead th {\n",
       "        text-align: right;\n",
       "    }\n",
       "</style>\n",
       "<table border=\"1\" class=\"dataframe\">\n",
       "  <thead>\n",
       "    <tr style=\"text-align: right;\">\n",
       "      <th></th>\n",
       "      <th>.INX</th>\n",
       "      <th>.N225</th>\n",
       "    </tr>\n",
       "    <tr>\n",
       "      <th>Date</th>\n",
       "      <th></th>\n",
       "      <th></th>\n",
       "    </tr>\n",
       "  </thead>\n",
       "  <tbody>\n",
       "    <tr>\n",
       "      <th>2013-01-02</th>\n",
       "      <td>1462.42</td>\n",
       "      <td>NaN</td>\n",
       "    </tr>\n",
       "    <tr>\n",
       "      <th>2013-01-03</th>\n",
       "      <td>1459.37</td>\n",
       "      <td>NaN</td>\n",
       "    </tr>\n",
       "    <tr>\n",
       "      <th>2013-01-04</th>\n",
       "      <td>1466.47</td>\n",
       "      <td>10688.11</td>\n",
       "    </tr>\n",
       "    <tr>\n",
       "      <th>2013-01-07</th>\n",
       "      <td>1461.89</td>\n",
       "      <td>10599.01</td>\n",
       "    </tr>\n",
       "    <tr>\n",
       "      <th>2013-01-08</th>\n",
       "      <td>1457.15</td>\n",
       "      <td>10508.06</td>\n",
       "    </tr>\n",
       "  </tbody>\n",
       "</table>\n",
       "</div>"
      ],
      "text/plain": [
       "               .INX     .N225\n",
       "Date                         \n",
       "2013-01-02  1462.42       NaN\n",
       "2013-01-03  1459.37       NaN\n",
       "2013-01-04  1466.47  10688.11\n",
       "2013-01-07  1461.89  10599.01\n",
       "2013-01-08  1457.15  10508.06"
      ]
     },
     "execution_count": 97,
     "metadata": {},
     "output_type": "execute_result"
    }
   ],
   "source": [
    "yahoo_prices.head(5)"
   ]
  },
  {
   "cell_type": "markdown",
   "metadata": {},
   "source": [
    "Merge dataframes"
   ]
  },
  {
   "cell_type": "code",
   "execution_count": 98,
   "metadata": {},
   "outputs": [],
   "source": [
    "# Join yahoo finance data to original dataframe\n",
    "df = df.join(yahoo_prices)"
   ]
  },
  {
   "cell_type": "code",
   "execution_count": 99,
   "metadata": {},
   "outputs": [
    {
     "data": {
      "text/html": [
       "<div>\n",
       "<style scoped>\n",
       "    .dataframe tbody tr th:only-of-type {\n",
       "        vertical-align: middle;\n",
       "    }\n",
       "\n",
       "    .dataframe tbody tr th {\n",
       "        vertical-align: top;\n",
       "    }\n",
       "\n",
       "    .dataframe thead th {\n",
       "        text-align: right;\n",
       "    }\n",
       "</style>\n",
       "<table border=\"1\" class=\"dataframe\">\n",
       "  <thead>\n",
       "    <tr style=\"text-align: right;\">\n",
       "      <th></th>\n",
       "      <th>.DJI</th>\n",
       "      <th>.FTSE</th>\n",
       "      <th>.GDAXI</th>\n",
       "      <th>.HSI</th>\n",
       "      <th>.STOXX</th>\n",
       "      <th>.INX</th>\n",
       "      <th>.N225</th>\n",
       "    </tr>\n",
       "    <tr>\n",
       "      <th>Trade Date</th>\n",
       "      <th></th>\n",
       "      <th></th>\n",
       "      <th></th>\n",
       "      <th></th>\n",
       "      <th></th>\n",
       "      <th></th>\n",
       "      <th></th>\n",
       "    </tr>\n",
       "  </thead>\n",
       "  <tbody>\n",
       "    <tr>\n",
       "      <th>2013-01-01</th>\n",
       "      <td>NaN</td>\n",
       "      <td>NaN</td>\n",
       "      <td>NaN</td>\n",
       "      <td>NaN</td>\n",
       "      <td>NaN</td>\n",
       "      <td>NaN</td>\n",
       "      <td>NaN</td>\n",
       "    </tr>\n",
       "    <tr>\n",
       "      <th>2013-01-02</th>\n",
       "      <td>11986.80</td>\n",
       "      <td>5386.66</td>\n",
       "      <td>6951.90</td>\n",
       "      <td>20833.92</td>\n",
       "      <td>255.00</td>\n",
       "      <td>1462.42</td>\n",
       "      <td>NaN</td>\n",
       "    </tr>\n",
       "    <tr>\n",
       "      <th>2013-01-03</th>\n",
       "      <td>11967.86</td>\n",
       "      <td>5404.51</td>\n",
       "      <td>6931.93</td>\n",
       "      <td>20911.33</td>\n",
       "      <td>256.34</td>\n",
       "      <td>1459.37</td>\n",
       "      <td>NaN</td>\n",
       "    </tr>\n",
       "    <tr>\n",
       "      <th>2013-01-04</th>\n",
       "      <td>12007.05</td>\n",
       "      <td>5442.49</td>\n",
       "      <td>6949.74</td>\n",
       "      <td>20851.00</td>\n",
       "      <td>257.23</td>\n",
       "      <td>1466.47</td>\n",
       "      <td>10688.11</td>\n",
       "    </tr>\n",
       "    <tr>\n",
       "      <th>2013-01-07</th>\n",
       "      <td>11961.54</td>\n",
       "      <td>5419.92</td>\n",
       "      <td>6910.68</td>\n",
       "      <td>20849.80</td>\n",
       "      <td>256.16</td>\n",
       "      <td>1461.89</td>\n",
       "      <td>10599.01</td>\n",
       "    </tr>\n",
       "  </tbody>\n",
       "</table>\n",
       "</div>"
      ],
      "text/plain": [
       "                .DJI    .FTSE   .GDAXI      .HSI  .STOXX     .INX     .N225\n",
       "Trade Date                                                                 \n",
       "2013-01-01       NaN      NaN      NaN       NaN     NaN      NaN       NaN\n",
       "2013-01-02  11986.80  5386.66  6951.90  20833.92  255.00  1462.42       NaN\n",
       "2013-01-03  11967.86  5404.51  6931.93  20911.33  256.34  1459.37       NaN\n",
       "2013-01-04  12007.05  5442.49  6949.74  20851.00  257.23  1466.47  10688.11\n",
       "2013-01-07  11961.54  5419.92  6910.68  20849.80  256.16  1461.89  10599.01"
      ]
     },
     "execution_count": 99,
     "metadata": {},
     "output_type": "execute_result"
    }
   ],
   "source": [
    "df.head(5)"
   ]
  },
  {
   "cell_type": "markdown",
   "metadata": {},
   "source": [
    "Analyse missing values"
   ]
  },
  {
   "cell_type": "code",
   "execution_count": 100,
   "metadata": {},
   "outputs": [
    {
     "data": {
      "text/plain": [
       ".DJI        1\n",
       ".FTSE       1\n",
       ".GDAXI      1\n",
       ".HSI        1\n",
       ".STOXX      1\n",
       ".INX      100\n",
       ".N225     179\n",
       "dtype: int64"
      ]
     },
     "execution_count": 100,
     "metadata": {},
     "output_type": "execute_result"
    }
   ],
   "source": [
    "# Count missing values in a dataframe\n",
    "df.isna().sum(axis=0)"
   ]
  },
  {
   "cell_type": "code",
   "execution_count": 101,
   "metadata": {},
   "outputs": [
    {
     "data": {
      "text/plain": [
       "<Axes: xlabel='Trade Date'>"
      ]
     },
     "execution_count": 101,
     "metadata": {},
     "output_type": "execute_result"
    },
    {
     "data": {
      "image/png": "[encoded data removed]",
      "text/plain": [
       "<Figure size 2000x600 with 2 Axes>"
      ]
     },
     "metadata": {},
     "output_type": "display_data"
    }
   ],
   "source": [
    "# Visualize missing values\n",
    "plt.figure(figsize=(20,6))\n",
    "sns.heatmap(df.isna().transpose(),\n",
    "            cmap=\"YlGnBu\",\n",
    "            cbar_kws={'label': 'Missing Data'})"
   ]
  },
  {
   "cell_type": "code",
   "execution_count": 102,
   "metadata": {},
   "outputs": [],
   "source": [
    "# Fill missing values with previous available data. When starting values are missing, take next available\n",
    "df = df.ffill().bfill()"
   ]
  },
  {
   "cell_type": "code",
   "execution_count": 103,
   "metadata": {},
   "outputs": [
    {
     "data": {
      "text/html": [
       "<div>\n",
       "<style scoped>\n",
       "    .dataframe tbody tr th:only-of-type {\n",
       "        vertical-align: middle;\n",
       "    }\n",
       "\n",
       "    .dataframe tbody tr th {\n",
       "        vertical-align: top;\n",
       "    }\n",
       "\n",
       "    .dataframe thead th {\n",
       "        text-align: right;\n",
       "    }\n",
       "</style>\n",
       "<table border=\"1\" class=\"dataframe\">\n",
       "  <thead>\n",
       "    <tr style=\"text-align: right;\">\n",
       "      <th></th>\n",
       "      <th>.DJI</th>\n",
       "      <th>.FTSE</th>\n",
       "      <th>.GDAXI</th>\n",
       "      <th>.HSI</th>\n",
       "      <th>.STOXX</th>\n",
       "      <th>.INX</th>\n",
       "      <th>.N225</th>\n",
       "    </tr>\n",
       "    <tr>\n",
       "      <th>Trade Date</th>\n",
       "      <th></th>\n",
       "      <th></th>\n",
       "      <th></th>\n",
       "      <th></th>\n",
       "      <th></th>\n",
       "      <th></th>\n",
       "      <th></th>\n",
       "    </tr>\n",
       "  </thead>\n",
       "  <tbody>\n",
       "  </tbody>\n",
       "</table>\n",
       "</div>"
      ],
      "text/plain": [
       "Empty DataFrame\n",
       "Columns: [.DJI, .FTSE, .GDAXI, .HSI, .STOXX, .INX, .N225]\n",
       "Index: []"
      ]
     },
     "execution_count": 103,
     "metadata": {},
     "output_type": "execute_result"
    }
   ],
   "source": [
    "# Any rows with missing data?\n",
    "df[df.isna().any(axis=1)]"
   ]
  },
  {
   "cell_type": "markdown",
   "metadata": {},
   "source": [
    "Data modelling 2"
   ]
  },
  {
   "cell_type": "code",
   "execution_count": 104,
   "metadata": {},
   "outputs": [],
   "source": [
    "# Reorder columns\n",
    "df = df[['.DJI', '.STOXX', '.FTSE', '.GDAXI', '.N225', '.HSI','.INX']]\n",
    "\n",
    "# Index values into columns\n",
    "df = df.reset_index()\n",
    "\n",
    "# Unpivot columns\n",
    "df = pd.melt(df, id_vars='Trade Date', var_name='RIC', value_name='Universal Close Price')"
   ]
  },
  {
   "cell_type": "code",
   "execution_count": 105,
   "metadata": {},
   "outputs": [],
   "source": [
    "# Functions\n",
    "\n",
    "def dot_separated_date(date):\n",
    "    \"\"\"\n",
    "    Formats a given date object into a dot-separated string.\n",
    "\n",
    "    Args:\n",
    "        date (datetime.date): The date to be formatted.\n",
    "\n",
    "    Returns:\n",
    "        str: A string representing the date in the format 'dd.mm.yyyy'.\n",
    "    \"\"\"\n",
    "    date_dot_sep = date.strftime('%d.%m.%Y')\n",
    "    return date_dot_sep\n",
    "\n",
    "def format_float_to_desired(value):\n",
    "    \"\"\"\n",
    "    Formats a floating-point number as a string with comma and dot swapped.\n",
    "\n",
    "    Args:\n",
    "        value (float): The floating-point number to be formatted.\n",
    "\n",
    "    Returns:\n",
    "        str: A string representation of the number with ',' and '.' swapped, formatted as 'X,XXX.XX'.\n",
    "    \"\"\"\n",
    "    formatted_value = '{:,.2f}'.format(value).replace(',', 'X').replace('.', ',').replace('X', '.')\n",
    "    return formatted_value"
   ]
  },
  {
   "cell_type": "code",
   "execution_count": 106,
   "metadata": {},
   "outputs": [],
   "source": [
    "df['Trade Date'] = df['Trade Date'].apply(dot_separated_date)\n",
    "df['Universal Close Price'] = df['Universal Close Price'].apply(format_float_to_desired)"
   ]
  },
  {
   "cell_type": "code",
   "execution_count": 107,
   "metadata": {},
   "outputs": [
    {
     "data": {
      "text/html": [
       "<div>\n",
       "<style scoped>\n",
       "    .dataframe tbody tr th:only-of-type {\n",
       "        vertical-align: middle;\n",
       "    }\n",
       "\n",
       "    .dataframe tbody tr th {\n",
       "        vertical-align: top;\n",
       "    }\n",
       "\n",
       "    .dataframe thead th {\n",
       "        text-align: right;\n",
       "    }\n",
       "</style>\n",
       "<table border=\"1\" class=\"dataframe\">\n",
       "  <thead>\n",
       "    <tr style=\"text-align: right;\">\n",
       "      <th></th>\n",
       "      <th>Trade Date</th>\n",
       "      <th>RIC</th>\n",
       "      <th>Universal Close Price</th>\n",
       "    </tr>\n",
       "  </thead>\n",
       "  <tbody>\n",
       "    <tr>\n",
       "      <th>0</th>\n",
       "      <td>01.01.2013</td>\n",
       "      <td>.DJI</td>\n",
       "      <td>11.986,80</td>\n",
       "    </tr>\n",
       "    <tr>\n",
       "      <th>1</th>\n",
       "      <td>02.01.2013</td>\n",
       "      <td>.DJI</td>\n",
       "      <td>11.986,80</td>\n",
       "    </tr>\n",
       "    <tr>\n",
       "      <th>2</th>\n",
       "      <td>03.01.2013</td>\n",
       "      <td>.DJI</td>\n",
       "      <td>11.967,86</td>\n",
       "    </tr>\n",
       "    <tr>\n",
       "      <th>3</th>\n",
       "      <td>04.01.2013</td>\n",
       "      <td>.DJI</td>\n",
       "      <td>12.007,05</td>\n",
       "    </tr>\n",
       "    <tr>\n",
       "      <th>4</th>\n",
       "      <td>07.01.2013</td>\n",
       "      <td>.DJI</td>\n",
       "      <td>11.961,54</td>\n",
       "    </tr>\n",
       "  </tbody>\n",
       "</table>\n",
       "</div>"
      ],
      "text/plain": [
       "   Trade Date   RIC Universal Close Price\n",
       "0  01.01.2013  .DJI             11.986,80\n",
       "1  02.01.2013  .DJI             11.986,80\n",
       "2  03.01.2013  .DJI             11.967,86\n",
       "3  04.01.2013  .DJI             12.007,05\n",
       "4  07.01.2013  .DJI             11.961,54"
      ]
     },
     "execution_count": 107,
     "metadata": {},
     "output_type": "execute_result"
    }
   ],
   "source": [
    "df.head(5)"
   ]
  },
  {
   "cell_type": "markdown",
   "metadata": {},
   "source": [
    "Create file per date"
   ]
  },
  {
   "cell_type": "code",
   "execution_count": 108,
   "metadata": {},
   "outputs": [],
   "source": [
    "date_sequence = df['Trade Date'].unique()"
   ]
  },
  {
   "cell_type": "code",
   "execution_count": 109,
   "metadata": {},
   "outputs": [],
   "source": [
    "def get_filename(date):\n",
    "    \"\"\"\n",
    "    Generates a filename based on a dot-separated date.\n",
    "\n",
    "    Args:\n",
    "        date (str): A string representing a date in the format 'dd.mm.yyyy'.\n",
    "\n",
    "    Returns:\n",
    "        str: A formatted filename in the format 'yyyymmdd_stock_index'.\n",
    "\n",
    "    Example:\n",
    "        If date is '25.10.2023', the function will return '20231025_stock_index'.\n",
    "    \"\"\"\n",
    "    date_list = date.split('.')[::-1]\n",
    "    prefix_date = ''.join(date_list)\n",
    "    filename = f\"{prefix_date}_stock_index\"\n",
    "    return filename\n"
   ]
  },
  {
   "cell_type": "code",
   "execution_count": 110,
   "metadata": {},
   "outputs": [],
   "source": [
    "# for loop to create an stock index prices file for each date\n",
    "for date_item in date_sequence:\n",
    "    # Get date\n",
    "    df_subset = df[df['Trade Date'] == date_item]\n",
    "    # Get file name & set path\n",
    "    file_name = get_filename(date_item)\n",
    "    file_name_path = f\"files_created/{file_name}.csv\"\n",
    "    # Create a file\n",
    "    df_subset.to_csv(file_name_path, index=None, sep=',')"
   ]
  },
  {
   "cell_type": "markdown",
   "metadata": {},
   "source": [
    "Test: Merge all files"
   ]
  },
  {
   "cell_type": "code",
   "execution_count": 111,
   "metadata": {},
   "outputs": [],
   "source": [
    "# merging the files \n",
    "file_format = os.path.join('files_created', '*stock*') \n",
    "  \n",
    "# A list of all joined files is returned \n",
    "files_list = glob.glob(file_format) "
   ]
  },
  {
   "cell_type": "code",
   "execution_count": 112,
   "metadata": {},
   "outputs": [],
   "source": [
    "df_concat = pd.concat([pd.read_csv(file, decimal=',') for file in files_list], ignore_index=True)"
   ]
  },
  {
   "cell_type": "code",
   "execution_count": 113,
   "metadata": {},
   "outputs": [
    {
     "data": {
      "text/html": [
       "<div>\n",
       "<style scoped>\n",
       "    .dataframe tbody tr th:only-of-type {\n",
       "        vertical-align: middle;\n",
       "    }\n",
       "\n",
       "    .dataframe tbody tr th {\n",
       "        vertical-align: top;\n",
       "    }\n",
       "\n",
       "    .dataframe thead th {\n",
       "        text-align: right;\n",
       "    }\n",
       "</style>\n",
       "<table border=\"1\" class=\"dataframe\">\n",
       "  <thead>\n",
       "    <tr style=\"text-align: right;\">\n",
       "      <th></th>\n",
       "      <th>Trade Date</th>\n",
       "      <th>RIC</th>\n",
       "      <th>Universal Close Price</th>\n",
       "    </tr>\n",
       "  </thead>\n",
       "  <tbody>\n",
       "    <tr>\n",
       "      <th>0</th>\n",
       "      <td>01.01.2013</td>\n",
       "      <td>.DJI</td>\n",
       "      <td>11.986,80</td>\n",
       "    </tr>\n",
       "    <tr>\n",
       "      <th>1</th>\n",
       "      <td>01.01.2013</td>\n",
       "      <td>.STOXX</td>\n",
       "      <td>255,00</td>\n",
       "    </tr>\n",
       "    <tr>\n",
       "      <th>2</th>\n",
       "      <td>01.01.2013</td>\n",
       "      <td>.FTSE</td>\n",
       "      <td>5.386,66</td>\n",
       "    </tr>\n",
       "    <tr>\n",
       "      <th>3</th>\n",
       "      <td>01.01.2013</td>\n",
       "      <td>.GDAXI</td>\n",
       "      <td>6.951,90</td>\n",
       "    </tr>\n",
       "    <tr>\n",
       "      <th>4</th>\n",
       "      <td>01.01.2013</td>\n",
       "      <td>.N225</td>\n",
       "      <td>10.688,11</td>\n",
       "    </tr>\n",
       "    <tr>\n",
       "      <th>5</th>\n",
       "      <td>01.01.2013</td>\n",
       "      <td>.HSI</td>\n",
       "      <td>20.833,92</td>\n",
       "    </tr>\n",
       "    <tr>\n",
       "      <th>6</th>\n",
       "      <td>01.01.2013</td>\n",
       "      <td>.INX</td>\n",
       "      <td>1.462,42</td>\n",
       "    </tr>\n",
       "  </tbody>\n",
       "</table>\n",
       "</div>"
      ],
      "text/plain": [
       "   Trade Date     RIC Universal Close Price\n",
       "0  01.01.2013    .DJI             11.986,80\n",
       "1  01.01.2013  .STOXX                255,00\n",
       "2  01.01.2013   .FTSE              5.386,66\n",
       "3  01.01.2013  .GDAXI              6.951,90\n",
       "4  01.01.2013   .N225             10.688,11\n",
       "5  01.01.2013    .HSI             20.833,92\n",
       "6  01.01.2013    .INX              1.462,42"
      ]
     },
     "execution_count": 113,
     "metadata": {},
     "output_type": "execute_result"
    }
   ],
   "source": [
    "df_concat.head(7)"
   ]
  }
 ],
 "metadata": {
  "kernelspec": {
   "display_name": "Python 3",
   "language": "python",
   "name": "python3"
  },
  "language_info": {
   "codemirror_mode": {
    "name": "ipython",
    "version": 3
   },
   "file_extension": ".py",
   "mimetype": "text/x-python",
   "name": "python",
   "nbconvert_exporter": "python",
   "pygments_lexer": "ipython3",
   "version": "3.11.6"
  }
 },
 "nbformat": 4,
 "nbformat_minor": 2
}
