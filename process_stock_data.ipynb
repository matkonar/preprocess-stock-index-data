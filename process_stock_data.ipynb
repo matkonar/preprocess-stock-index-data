{
 "cells": [
  {
   "cell_type": "markdown",
   "metadata": {},
   "source": [
    "Import packages"
   ]
  },
  {
   "cell_type": "code",
   "execution_count": 261,
   "metadata": {},
   "outputs": [],
   "source": [
    "import numpy as np\n",
    "import pandas as pd\n",
    "import datetime as dt\n",
    "import yfinance as yf\n",
    "import matplotlib.pyplot as plt\n",
    "import seaborn as sns"
   ]
  },
  {
   "cell_type": "markdown",
   "metadata": {},
   "source": [
    "Data import from excel"
   ]
  },
  {
   "cell_type": "code",
   "execution_count": 262,
   "metadata": {},
   "outputs": [],
   "source": [
    "df = pd.read_excel(\"stock_data.xlsx\", sheet_name=\"data\")"
   ]
  },
  {
   "cell_type": "code",
   "execution_count": 264,
   "metadata": {},
   "outputs": [
    {
     "data": {
      "text/html": [
       "<div>\n",
       "<style scoped>\n",
       "    .dataframe tbody tr th:only-of-type {\n",
       "        vertical-align: middle;\n",
       "    }\n",
       "\n",
       "    .dataframe tbody tr th {\n",
       "        vertical-align: top;\n",
       "    }\n",
       "\n",
       "    .dataframe thead th {\n",
       "        text-align: right;\n",
       "    }\n",
       "</style>\n",
       "<table border=\"1\" class=\"dataframe\">\n",
       "  <thead>\n",
       "    <tr style=\"text-align: right;\">\n",
       "      <th></th>\n",
       "      <th>RIC</th>\n",
       "      <th>30.09.2023</th>\n",
       "      <th>29.09.2023</th>\n",
       "      <th>28.09.2023</th>\n",
       "      <th>27.09.2023</th>\n",
       "      <th>26.09.2023</th>\n",
       "      <th>25.09.2023</th>\n",
       "      <th>24.09.2023</th>\n",
       "      <th>23.09.2023</th>\n",
       "      <th>22.09.2023</th>\n",
       "      <th>...</th>\n",
       "      <th>10.01.2013</th>\n",
       "      <th>09.01.2013</th>\n",
       "      <th>08.01.2013</th>\n",
       "      <th>07.01.2013</th>\n",
       "      <th>06.01.2013</th>\n",
       "      <th>05.01.2013</th>\n",
       "      <th>04.01.2013</th>\n",
       "      <th>03.01.2013</th>\n",
       "      <th>02.01.2013</th>\n",
       "      <th>01.01.2013</th>\n",
       "    </tr>\n",
       "  </thead>\n",
       "  <tbody>\n",
       "    <tr>\n",
       "      <th>0</th>\n",
       "      <td>.DJI</td>\n",
       "      <td>134030.00</td>\n",
       "      <td>134030.00</td>\n",
       "      <td>134665.36</td>\n",
       "      <td>134201.08</td>\n",
       "      <td>134475.52</td>\n",
       "      <td>136027.52</td>\n",
       "      <td>135855.36</td>\n",
       "      <td>135855.36</td>\n",
       "      <td>135855.36</td>\n",
       "      <td>...</td>\n",
       "      <td>53884.88</td>\n",
       "      <td>53562.04</td>\n",
       "      <td>53315.40</td>\n",
       "      <td>53537.16</td>\n",
       "      <td>53740.84</td>\n",
       "      <td>53740.84</td>\n",
       "      <td>53740.84</td>\n",
       "      <td>53565.44</td>\n",
       "      <td>53650.20</td>\n",
       "      <td>NaN</td>\n",
       "    </tr>\n",
       "    <tr>\n",
       "      <th>1</th>\n",
       "      <td>.STOXX</td>\n",
       "      <td>1800.88</td>\n",
       "      <td>1800.88</td>\n",
       "      <td>1794.00</td>\n",
       "      <td>1787.64</td>\n",
       "      <td>1790.80</td>\n",
       "      <td>1801.76</td>\n",
       "      <td>1813.04</td>\n",
       "      <td>1813.04</td>\n",
       "      <td>1813.04</td>\n",
       "      <td>...</td>\n",
       "      <td>1149.76</td>\n",
       "      <td>1152.88</td>\n",
       "      <td>1145.00</td>\n",
       "      <td>1146.52</td>\n",
       "      <td>1151.32</td>\n",
       "      <td>1151.32</td>\n",
       "      <td>1151.32</td>\n",
       "      <td>1147.32</td>\n",
       "      <td>1141.32</td>\n",
       "      <td>NaN</td>\n",
       "    </tr>\n",
       "    <tr>\n",
       "      <th>2</th>\n",
       "      <td>.FTSE</td>\n",
       "      <td>30432.32</td>\n",
       "      <td>30432.32</td>\n",
       "      <td>30407.40</td>\n",
       "      <td>30372.88</td>\n",
       "      <td>30502.88</td>\n",
       "      <td>30495.96</td>\n",
       "      <td>30735.64</td>\n",
       "      <td>30735.64</td>\n",
       "      <td>30735.64</td>\n",
       "      <td>...</td>\n",
       "      <td>24406.04</td>\n",
       "      <td>24394.60</td>\n",
       "      <td>24214.52</td>\n",
       "      <td>24258.32</td>\n",
       "      <td>24359.36</td>\n",
       "      <td>24359.36</td>\n",
       "      <td>24359.36</td>\n",
       "      <td>24189.36</td>\n",
       "      <td>24109.48</td>\n",
       "      <td>NaN</td>\n",
       "    </tr>\n",
       "    <tr>\n",
       "      <th>3</th>\n",
       "      <td>.GDAXI</td>\n",
       "      <td>61546.32</td>\n",
       "      <td>61546.32</td>\n",
       "      <td>61294.00</td>\n",
       "      <td>60869.80</td>\n",
       "      <td>61023.48</td>\n",
       "      <td>61621.96</td>\n",
       "      <td>62229.16</td>\n",
       "      <td>62229.16</td>\n",
       "      <td>62229.16</td>\n",
       "      <td>...</td>\n",
       "      <td>30833.88</td>\n",
       "      <td>30881.88</td>\n",
       "      <td>30783.32</td>\n",
       "      <td>30930.64</td>\n",
       "      <td>31105.48</td>\n",
       "      <td>31105.48</td>\n",
       "      <td>31105.48</td>\n",
       "      <td>31025.76</td>\n",
       "      <td>31115.12</td>\n",
       "      <td>NaN</td>\n",
       "    </tr>\n",
       "    <tr>\n",
       "      <th>4</th>\n",
       "      <td>.HSI</td>\n",
       "      <td>71238.64</td>\n",
       "      <td>71238.64</td>\n",
       "      <td>69492.12</td>\n",
       "      <td>70447.48</td>\n",
       "      <td>69867.60</td>\n",
       "      <td>70917.16</td>\n",
       "      <td>72229.80</td>\n",
       "      <td>72229.80</td>\n",
       "      <td>72229.80</td>\n",
       "      <td>...</td>\n",
       "      <td>93417.24</td>\n",
       "      <td>92873.88</td>\n",
       "      <td>92444.76</td>\n",
       "      <td>93319.00</td>\n",
       "      <td>93324.36</td>\n",
       "      <td>93324.36</td>\n",
       "      <td>93324.36</td>\n",
       "      <td>93594.40</td>\n",
       "      <td>93247.92</td>\n",
       "      <td>NaN</td>\n",
       "    </tr>\n",
       "  </tbody>\n",
       "</table>\n",
       "<p>5 rows × 3926 columns</p>\n",
       "</div>"
      ],
      "text/plain": [
       "      RIC  30.09.2023  29.09.2023  28.09.2023  27.09.2023  26.09.2023   \n",
       "0    .DJI   134030.00   134030.00   134665.36   134201.08   134475.52  \\\n",
       "1  .STOXX     1800.88     1800.88     1794.00     1787.64     1790.80   \n",
       "2   .FTSE    30432.32    30432.32    30407.40    30372.88    30502.88   \n",
       "3  .GDAXI    61546.32    61546.32    61294.00    60869.80    61023.48   \n",
       "4    .HSI    71238.64    71238.64    69492.12    70447.48    69867.60   \n",
       "\n",
       "   25.09.2023  24.09.2023  23.09.2023  22.09.2023  ...  10.01.2013   \n",
       "0   136027.52   135855.36   135855.36   135855.36  ...    53884.88  \\\n",
       "1     1801.76     1813.04     1813.04     1813.04  ...     1149.76   \n",
       "2    30495.96    30735.64    30735.64    30735.64  ...    24406.04   \n",
       "3    61621.96    62229.16    62229.16    62229.16  ...    30833.88   \n",
       "4    70917.16    72229.80    72229.80    72229.80  ...    93417.24   \n",
       "\n",
       "   09.01.2013  08.01.2013  07.01.2013  06.01.2013  05.01.2013  04.01.2013   \n",
       "0    53562.04    53315.40    53537.16    53740.84    53740.84    53740.84  \\\n",
       "1     1152.88     1145.00     1146.52     1151.32     1151.32     1151.32   \n",
       "2    24394.60    24214.52    24258.32    24359.36    24359.36    24359.36   \n",
       "3    30881.88    30783.32    30930.64    31105.48    31105.48    31105.48   \n",
       "4    92873.88    92444.76    93319.00    93324.36    93324.36    93324.36   \n",
       "\n",
       "   03.01.2013  02.01.2013  01.01.2013  \n",
       "0    53565.44    53650.20         NaN  \n",
       "1     1147.32     1141.32         NaN  \n",
       "2    24189.36    24109.48         NaN  \n",
       "3    31025.76    31115.12         NaN  \n",
       "4    93594.40    93247.92         NaN  \n",
       "\n",
       "[5 rows x 3926 columns]"
      ]
     },
     "execution_count": 264,
     "metadata": {},
     "output_type": "execute_result"
    }
   ],
   "source": [
    "df.head()"
   ]
  },
  {
   "cell_type": "code",
   "execution_count": 265,
   "metadata": {},
   "outputs": [
    {
     "data": {
      "text/plain": [
       "(5, 3926)"
      ]
     },
     "execution_count": 265,
     "metadata": {},
     "output_type": "execute_result"
    }
   ],
   "source": [
    "df.shape"
   ]
  },
  {
   "cell_type": "markdown",
   "metadata": {},
   "source": [
    "Data modelling"
   ]
  },
  {
   "cell_type": "code",
   "execution_count": 266,
   "metadata": {},
   "outputs": [],
   "source": [
    "# Unpivot columns except 'RIC' column\n",
    "df = pd.melt(df, id_vars='RIC', var_name='Trade Date', value_name='Universal Close Price')\n",
    "\n",
    "# Convert 'Trade Date' to date format\n",
    "df['Trade Date'] = pd.to_datetime(df['Trade Date'], format='%d.%m.%Y')\n",
    "\n",
    "# Create pivot table\n",
    "df = df.pivot(index='Trade Date', columns='RIC', values='Universal Close Price')"
   ]
  },
  {
   "cell_type": "code",
   "execution_count": 267,
   "metadata": {},
   "outputs": [],
   "source": [
    "# Delete rows in case it is weekend\n",
    "df = df[df.index.weekday < 5]"
   ]
  },
  {
   "cell_type": "markdown",
   "metadata": {},
   "source": [
    "Get Nikkei 225 and S&P 500 data from yahoo finance"
   ]
  },
  {
   "cell_type": "code",
   "execution_count": 269,
   "metadata": {},
   "outputs": [],
   "source": [
    "# Set start and and date\n",
    "start_date = df.index.min()\n",
    "end_date = df.index.max()"
   ]
  },
  {
   "cell_type": "code",
   "execution_count": 270,
   "metadata": {},
   "outputs": [
    {
     "name": "stdout",
     "output_type": "stream",
     "text": [
      "[*********************100%***********************]  2 of 2 completed\n"
     ]
    }
   ],
   "source": [
    "# Download yahoo finance data\n",
    "tickers_list = ['^N225', '^GSPC']\n",
    "yahoo_object = yf.Tickers(tickers_list)\n",
    "yahoo_prices = yahoo_object.history(start=start_date, end=end_date, interval='1d').Close"
   ]
  },
  {
   "cell_type": "code",
   "execution_count": 271,
   "metadata": {},
   "outputs": [],
   "source": [
    "# Round stock prices\n",
    "yahoo_prices = yahoo_prices.round(decimals=2)\n",
    "\n",
    "# Rename columns\n",
    "map_tickers = {'^GSPC': '.INX',\n",
    "               '^N225': '.N225'}\n",
    "yahoo_prices = yahoo_prices.rename(columns=map_tickers)"
   ]
  },
  {
   "cell_type": "code",
   "execution_count": 272,
   "metadata": {},
   "outputs": [
    {
     "data": {
      "text/html": [
       "<div>\n",
       "<style scoped>\n",
       "    .dataframe tbody tr th:only-of-type {\n",
       "        vertical-align: middle;\n",
       "    }\n",
       "\n",
       "    .dataframe tbody tr th {\n",
       "        vertical-align: top;\n",
       "    }\n",
       "\n",
       "    .dataframe thead th {\n",
       "        text-align: right;\n",
       "    }\n",
       "</style>\n",
       "<table border=\"1\" class=\"dataframe\">\n",
       "  <thead>\n",
       "    <tr style=\"text-align: right;\">\n",
       "      <th></th>\n",
       "      <th>.INX</th>\n",
       "      <th>.N225</th>\n",
       "    </tr>\n",
       "    <tr>\n",
       "      <th>Date</th>\n",
       "      <th></th>\n",
       "      <th></th>\n",
       "    </tr>\n",
       "  </thead>\n",
       "  <tbody>\n",
       "    <tr>\n",
       "      <th>2013-01-02</th>\n",
       "      <td>1462.42</td>\n",
       "      <td>NaN</td>\n",
       "    </tr>\n",
       "    <tr>\n",
       "      <th>2013-01-03</th>\n",
       "      <td>1459.37</td>\n",
       "      <td>NaN</td>\n",
       "    </tr>\n",
       "    <tr>\n",
       "      <th>2013-01-04</th>\n",
       "      <td>1466.47</td>\n",
       "      <td>10688.11</td>\n",
       "    </tr>\n",
       "    <tr>\n",
       "      <th>2013-01-07</th>\n",
       "      <td>1461.89</td>\n",
       "      <td>10599.01</td>\n",
       "    </tr>\n",
       "    <tr>\n",
       "      <th>2013-01-08</th>\n",
       "      <td>1457.15</td>\n",
       "      <td>10508.06</td>\n",
       "    </tr>\n",
       "  </tbody>\n",
       "</table>\n",
       "</div>"
      ],
      "text/plain": [
       "               .INX     .N225\n",
       "Date                         \n",
       "2013-01-02  1462.42       NaN\n",
       "2013-01-03  1459.37       NaN\n",
       "2013-01-04  1466.47  10688.11\n",
       "2013-01-07  1461.89  10599.01\n",
       "2013-01-08  1457.15  10508.06"
      ]
     },
     "execution_count": 272,
     "metadata": {},
     "output_type": "execute_result"
    }
   ],
   "source": [
    "yahoo_prices.head(5)"
   ]
  },
  {
   "cell_type": "markdown",
   "metadata": {},
   "source": [
    "Merge dataframes"
   ]
  },
  {
   "cell_type": "code",
   "execution_count": 273,
   "metadata": {},
   "outputs": [],
   "source": [
    "# Join yahoo finance data to original dataframe by index values\n",
    "df = df.join(yahoo_prices)"
   ]
  },
  {
   "cell_type": "code",
   "execution_count": 274,
   "metadata": {},
   "outputs": [
    {
     "data": {
      "text/html": [
       "<div>\n",
       "<style scoped>\n",
       "    .dataframe tbody tr th:only-of-type {\n",
       "        vertical-align: middle;\n",
       "    }\n",
       "\n",
       "    .dataframe tbody tr th {\n",
       "        vertical-align: top;\n",
       "    }\n",
       "\n",
       "    .dataframe thead th {\n",
       "        text-align: right;\n",
       "    }\n",
       "</style>\n",
       "<table border=\"1\" class=\"dataframe\">\n",
       "  <thead>\n",
       "    <tr style=\"text-align: right;\">\n",
       "      <th></th>\n",
       "      <th>.DJI</th>\n",
       "      <th>.FTSE</th>\n",
       "      <th>.GDAXI</th>\n",
       "      <th>.HSI</th>\n",
       "      <th>.STOXX</th>\n",
       "      <th>.INX</th>\n",
       "      <th>.N225</th>\n",
       "    </tr>\n",
       "    <tr>\n",
       "      <th>Trade Date</th>\n",
       "      <th></th>\n",
       "      <th></th>\n",
       "      <th></th>\n",
       "      <th></th>\n",
       "      <th></th>\n",
       "      <th></th>\n",
       "      <th></th>\n",
       "    </tr>\n",
       "  </thead>\n",
       "  <tbody>\n",
       "    <tr>\n",
       "      <th>2013-01-01</th>\n",
       "      <td>NaN</td>\n",
       "      <td>NaN</td>\n",
       "      <td>NaN</td>\n",
       "      <td>NaN</td>\n",
       "      <td>NaN</td>\n",
       "      <td>NaN</td>\n",
       "      <td>NaN</td>\n",
       "    </tr>\n",
       "    <tr>\n",
       "      <th>2013-01-02</th>\n",
       "      <td>53650.20</td>\n",
       "      <td>24109.48</td>\n",
       "      <td>31115.12</td>\n",
       "      <td>93247.92</td>\n",
       "      <td>1141.32</td>\n",
       "      <td>1462.42</td>\n",
       "      <td>NaN</td>\n",
       "    </tr>\n",
       "    <tr>\n",
       "      <th>2013-01-03</th>\n",
       "      <td>53565.44</td>\n",
       "      <td>24189.36</td>\n",
       "      <td>31025.76</td>\n",
       "      <td>93594.40</td>\n",
       "      <td>1147.32</td>\n",
       "      <td>1459.37</td>\n",
       "      <td>NaN</td>\n",
       "    </tr>\n",
       "    <tr>\n",
       "      <th>2013-01-04</th>\n",
       "      <td>53740.84</td>\n",
       "      <td>24359.36</td>\n",
       "      <td>31105.48</td>\n",
       "      <td>93324.36</td>\n",
       "      <td>1151.32</td>\n",
       "      <td>1466.47</td>\n",
       "      <td>10688.11</td>\n",
       "    </tr>\n",
       "    <tr>\n",
       "      <th>2013-01-07</th>\n",
       "      <td>53537.16</td>\n",
       "      <td>24258.32</td>\n",
       "      <td>30930.64</td>\n",
       "      <td>93319.00</td>\n",
       "      <td>1146.52</td>\n",
       "      <td>1461.89</td>\n",
       "      <td>10599.01</td>\n",
       "    </tr>\n",
       "  </tbody>\n",
       "</table>\n",
       "</div>"
      ],
      "text/plain": [
       "                .DJI     .FTSE    .GDAXI      .HSI   .STOXX     .INX     .N225\n",
       "Trade Date                                                                    \n",
       "2013-01-01       NaN       NaN       NaN       NaN      NaN      NaN       NaN\n",
       "2013-01-02  53650.20  24109.48  31115.12  93247.92  1141.32  1462.42       NaN\n",
       "2013-01-03  53565.44  24189.36  31025.76  93594.40  1147.32  1459.37       NaN\n",
       "2013-01-04  53740.84  24359.36  31105.48  93324.36  1151.32  1466.47  10688.11\n",
       "2013-01-07  53537.16  24258.32  30930.64  93319.00  1146.52  1461.89  10599.01"
      ]
     },
     "execution_count": 274,
     "metadata": {},
     "output_type": "execute_result"
    }
   ],
   "source": [
    "df.head(5)"
   ]
  },
  {
   "cell_type": "markdown",
   "metadata": {},
   "source": [
    "Analyse missing values"
   ]
  },
  {
   "cell_type": "code",
   "execution_count": 275,
   "metadata": {},
   "outputs": [
    {
     "data": {
      "text/plain": [
       ".DJI        1\n",
       ".FTSE       1\n",
       ".GDAXI      1\n",
       ".HSI        1\n",
       ".STOXX      1\n",
       ".INX      100\n",
       ".N225     178\n",
       "dtype: int64"
      ]
     },
     "execution_count": 275,
     "metadata": {},
     "output_type": "execute_result"
    }
   ],
   "source": [
    "# Count missing values for each column\n",
    "df.isna().sum(axis=0)"
   ]
  },
  {
   "cell_type": "code",
   "execution_count": 276,
   "metadata": {},
   "outputs": [
    {
     "data": {
      "text/plain": [
       "<Axes: xlabel='Trade Date'>"
      ]
     },
     "execution_count": 276,
     "metadata": {},
     "output_type": "execute_result"
    },
    {
     "data": {
      "image/png": "[encoded data removed]",
      "text/plain": [
       "<Figure size 2000x600 with 2 Axes>"
      ]
     },
     "metadata": {},
     "output_type": "display_data"
    }
   ],
   "source": [
    "# Visualize missing values\n",
    "plt.figure(figsize=(20,6))\n",
    "sns.heatmap(df.isna().transpose(),\n",
    "            cmap=\"YlGnBu\",\n",
    "            cbar_kws={'label': 'Missing Data'})"
   ]
  },
  {
   "cell_type": "code",
   "execution_count": 277,
   "metadata": {},
   "outputs": [],
   "source": [
    "# Fill missing values with previous available data. When starting values are missing, take next available\n",
    "df = df.ffill().bfill()"
   ]
  },
  {
   "cell_type": "code",
   "execution_count": 278,
   "metadata": {},
   "outputs": [
    {
     "data": {
      "text/html": [
       "<div>\n",
       "<style scoped>\n",
       "    .dataframe tbody tr th:only-of-type {\n",
       "        vertical-align: middle;\n",
       "    }\n",
       "\n",
       "    .dataframe tbody tr th {\n",
       "        vertical-align: top;\n",
       "    }\n",
       "\n",
       "    .dataframe thead th {\n",
       "        text-align: right;\n",
       "    }\n",
       "</style>\n",
       "<table border=\"1\" class=\"dataframe\">\n",
       "  <thead>\n",
       "    <tr style=\"text-align: right;\">\n",
       "      <th></th>\n",
       "      <th>.DJI</th>\n",
       "      <th>.FTSE</th>\n",
       "      <th>.GDAXI</th>\n",
       "      <th>.HSI</th>\n",
       "      <th>.STOXX</th>\n",
       "      <th>.INX</th>\n",
       "      <th>.N225</th>\n",
       "    </tr>\n",
       "    <tr>\n",
       "      <th>Trade Date</th>\n",
       "      <th></th>\n",
       "      <th></th>\n",
       "      <th></th>\n",
       "      <th></th>\n",
       "      <th></th>\n",
       "      <th></th>\n",
       "      <th></th>\n",
       "    </tr>\n",
       "  </thead>\n",
       "  <tbody>\n",
       "  </tbody>\n",
       "</table>\n",
       "</div>"
      ],
      "text/plain": [
       "Empty DataFrame\n",
       "Columns: [.DJI, .FTSE, .GDAXI, .HSI, .STOXX, .INX, .N225]\n",
       "Index: []"
      ]
     },
     "execution_count": 278,
     "metadata": {},
     "output_type": "execute_result"
    }
   ],
   "source": [
    "# Any rows with missing data?\n",
    "df[df.isna().any(axis=1)]"
   ]
  },
  {
   "cell_type": "markdown",
   "metadata": {},
   "source": [
    "Data modelling 2"
   ]
  },
  {
   "cell_type": "code",
   "execution_count": 279,
   "metadata": {},
   "outputs": [],
   "source": [
    "# Reorder columns\n",
    "df = df[['.DJI', '.STOXX', '.FTSE', '.GDAXI', '.N225', '.HSI','.INX']]\n",
    "\n",
    "# Index values into columns\n",
    "df = df.reset_index()\n",
    "\n",
    "# Unpivot columns\n",
    "df = pd.melt(df, id_vars='Trade Date', var_name='RIC', value_name='Universal Close Price')"
   ]
  },
  {
   "cell_type": "code",
   "execution_count": 280,
   "metadata": {},
   "outputs": [],
   "source": [
    "# Functions\n",
    "\n",
    "def dot_separated_date(date):\n",
    "    \"\"\"\n",
    "    Formats a given date object into a dot-separated string.\n",
    "\n",
    "    Args:\n",
    "        date (datetime.date): The date to be formatted.\n",
    "\n",
    "    Returns:\n",
    "        str: A string representing the date in the format 'dd.mm.yyyy'.\n",
    "    \"\"\"\n",
    "    date_dot_sep = date.strftime('%d.%m.%Y')\n",
    "    return date_dot_sep\n",
    "\n",
    "def format_float_to_desired(value):\n",
    "    \"\"\"\n",
    "    Formats a floating-point number as a string with comma and dot swapped.\n",
    "\n",
    "    Args:\n",
    "        value (float): The floating-point number to be formatted.\n",
    "\n",
    "    Returns:\n",
    "        str: A string representation of the number with ',' and '.' swapped, formatted as 'X,XXX.XX'.\n",
    "    \"\"\"\n",
    "    formatted_value = '{:,.2f}'.format(value).replace(',', 'X').replace('.', ',').replace('X', '.')\n",
    "    return formatted_value"
   ]
  },
  {
   "cell_type": "code",
   "execution_count": 281,
   "metadata": {},
   "outputs": [],
   "source": [
    "df['Trade Date'] = df['Trade Date'].apply(dot_separated_date)\n",
    "df['Universal Close Price'] = df['Universal Close Price'].apply(format_float_to_desired)"
   ]
  },
  {
   "cell_type": "code",
   "execution_count": 282,
   "metadata": {},
   "outputs": [
    {
     "data": {
      "text/html": [
       "<div>\n",
       "<style scoped>\n",
       "    .dataframe tbody tr th:only-of-type {\n",
       "        vertical-align: middle;\n",
       "    }\n",
       "\n",
       "    .dataframe tbody tr th {\n",
       "        vertical-align: top;\n",
       "    }\n",
       "\n",
       "    .dataframe thead th {\n",
       "        text-align: right;\n",
       "    }\n",
       "</style>\n",
       "<table border=\"1\" class=\"dataframe\">\n",
       "  <thead>\n",
       "    <tr style=\"text-align: right;\">\n",
       "      <th></th>\n",
       "      <th>Trade Date</th>\n",
       "      <th>RIC</th>\n",
       "      <th>Universal Close Price</th>\n",
       "    </tr>\n",
       "  </thead>\n",
       "  <tbody>\n",
       "    <tr>\n",
       "      <th>0</th>\n",
       "      <td>01.01.2013</td>\n",
       "      <td>.DJI</td>\n",
       "      <td>53.650,20</td>\n",
       "    </tr>\n",
       "    <tr>\n",
       "      <th>1</th>\n",
       "      <td>02.01.2013</td>\n",
       "      <td>.DJI</td>\n",
       "      <td>53.650,20</td>\n",
       "    </tr>\n",
       "    <tr>\n",
       "      <th>2</th>\n",
       "      <td>03.01.2013</td>\n",
       "      <td>.DJI</td>\n",
       "      <td>53.565,44</td>\n",
       "    </tr>\n",
       "    <tr>\n",
       "      <th>3</th>\n",
       "      <td>04.01.2013</td>\n",
       "      <td>.DJI</td>\n",
       "      <td>53.740,84</td>\n",
       "    </tr>\n",
       "    <tr>\n",
       "      <th>4</th>\n",
       "      <td>07.01.2013</td>\n",
       "      <td>.DJI</td>\n",
       "      <td>53.537,16</td>\n",
       "    </tr>\n",
       "  </tbody>\n",
       "</table>\n",
       "</div>"
      ],
      "text/plain": [
       "   Trade Date   RIC Universal Close Price\n",
       "0  01.01.2013  .DJI             53.650,20\n",
       "1  02.01.2013  .DJI             53.650,20\n",
       "2  03.01.2013  .DJI             53.565,44\n",
       "3  04.01.2013  .DJI             53.740,84\n",
       "4  07.01.2013  .DJI             53.537,16"
      ]
     },
     "execution_count": 282,
     "metadata": {},
     "output_type": "execute_result"
    }
   ],
   "source": [
    "df.head(5)"
   ]
  },
  {
   "cell_type": "markdown",
   "metadata": {},
   "source": [
    "Create file per date"
   ]
  },
  {
   "cell_type": "code",
   "execution_count": 230,
   "metadata": {},
   "outputs": [],
   "source": [
    "date_sequence = df['Trade Date'].unique()"
   ]
  },
  {
   "cell_type": "code",
   "execution_count": 231,
   "metadata": {},
   "outputs": [],
   "source": [
    "def get_filename(date):\n",
    "    \"\"\"\n",
    "    Generates a filename based on a dot-separated date.\n",
    "\n",
    "    Args:\n",
    "        date (str): A string representing a date in the format 'dd.mm.yyyy'.\n",
    "\n",
    "    Returns:\n",
    "        str: A formatted filename in the format 'yyyymmdd_stock_index'.\n",
    "\n",
    "    Example:\n",
    "        If date is '25.10.2023', the function will return '20231025_stock_index'.\n",
    "    \"\"\"\n",
    "    date_list = date.split('.')[::-1]\n",
    "    prefix_date = ''.join(date_list)\n",
    "    filename = f\"{prefix_date}_stock_index\"\n",
    "    return filename\n"
   ]
  },
  {
   "cell_type": "code",
   "execution_count": 232,
   "metadata": {},
   "outputs": [],
   "source": [
    "# for loop to create an stock index prices file for each date\n",
    "for date_item in date_sequence:\n",
    "    # Get date\n",
    "    df_subset = df[df['Trade Date'] == date_item]\n",
    "    # Get file name & set path\n",
    "    file_name = get_filename(date_item)\n",
    "    file_name_path = f\"files_created/{file_name}.csv\"\n",
    "    # Create a file\n",
    "    df_subset.to_csv(file_name_path, index=None, sep=',')"
   ]
  }
 ],
 "metadata": {
  "kernelspec": {
   "display_name": "Python 3",
   "language": "python",
   "name": "python3"
  },
  "language_info": {
   "codemirror_mode": {
    "name": "ipython",
    "version": 3
   },
   "file_extension": ".py",
   "mimetype": "text/x-python",
   "name": "python",
   "nbconvert_exporter": "python",
   "pygments_lexer": "ipython3",
   "version": "3.11.6"
  }
 },
 "nbformat": 4,
 "nbformat_minor": 2
}
